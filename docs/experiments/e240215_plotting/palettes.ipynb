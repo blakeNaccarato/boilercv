{
 "cells": [
  {
   "cell_type": "markdown",
   "metadata": {
    "tags": []
   },
   "source": [
    "::::\n",
    ":::{thebe-button}\n",
    ":::\n",
    "::::\n",
    "\n",
    "# Color palettes\n",
    "\n",
    "I want to find color palettes to use in my plots. I want to bubble tracks in a cool palette against warm correlations in a warm palette. I will use `colorcet`'s Glasbey palettes, [foo](https://colorcet.holoviz.org/user_guide/Categorical.html#light-dark). {cite}`glasbeyColourDisplaysCategorical2007`.\n",
    "\n",
    "```text\n",
    "glasbey_<starting_palette>[_<min|max>c_<chroma_value>][_<min|max>l_<lightness_value>][_hue_<start>_<end>]\n",
    "```\n"
   ]
  },
  {
   "cell_type": "code",
   "execution_count": null,
   "metadata": {
    "tags": [
     "hide-input",
     "parameters",
     "thebe-init"
    ]
   },
   "outputs": [],
   "source": [
    "from boilercv_docs.nbs import init\n",
    "\n",
    "paths = init()\n",
    "\n",
    "from colorsys import rgb_to_hsv\n",
    "\n",
    "import colorcet  # noqa: F401\n",
    "from matplotlib import colormaps\n",
    "from seaborn import color_palette"
   ]
  },
  {
   "cell_type": "code",
   "execution_count": null,
   "metadata": {
    "tags": [
     "hide-input",
     "parameters"
    ]
   },
   "outputs": [],
   "source": [
    "cool = colormaps[\"cet_glasbey_bw_minc_20_hue_150_280\"]\n",
    "display(cool)"
   ]
  },
  {
   "cell_type": "code",
   "execution_count": null,
   "metadata": {
    "tags": [
     "hide-input",
     "parameters"
    ]
   },
   "outputs": [],
   "source": [
    "from pandas import DataFrame\n",
    "\n",
    "DataFrame(\n",
    "    columns=[\"R\", \"G\", \"B\", \"H\", \"S\", \"V\"],\n",
    "    data=[(*color, *rgb_to_hsv(*color)) for color in cool.colors],  # pyright: ignore[reportAttributeAccessIssue]  # pyright: 1.1.348, seaborn: 0.13.1)\n",
    ")"
   ]
  },
  {
   "cell_type": "code",
   "execution_count": null,
   "metadata": {
    "tags": [
     "hide-input",
     "parameters"
    ]
   },
   "outputs": [],
   "source": [
    "warm = colormaps[\"cet_glasbey_bw_minc_20_hue_330_100\"]\n",
    "display(warm)"
   ]
  },
  {
   "cell_type": "code",
   "execution_count": null,
   "metadata": {
    "tags": [
     "hide-input",
     "parameters"
    ]
   },
   "outputs": [],
   "source": [
    "color_palette(\"cet_glasbey_category10\", n_colors=257)"
   ]
  },
  {
   "cell_type": "code",
   "execution_count": null,
   "metadata": {
    "tags": [
     "hide-input",
     "parameters"
    ]
   },
   "outputs": [],
   "source": [
    "cat10 = colormaps[\"cet_glasbey_category10\"]\n",
    "color_palette(cat10.colors)  # pyright: ignore[reportAttributeAccessIssue]  # pyright: 1.1.348, seaborn: 0.13.1)"
   ]
  },
  {
   "cell_type": "code",
   "execution_count": null,
   "metadata": {
    "tags": [
     "hide-input",
     "parameters"
    ]
   },
   "outputs": [],
   "source": [
    "# WARMER_INDICES = range(256)\n",
    "# warmer = color_palette([\n",
    "#     c\n",
    "#     for i, c in enumerate(warm)  # pyright: ignore[reportAttributeAccessIssue]  # pyright: 1.1.348, seaborn: 0.13.1\n",
    "#     if i in WARM_INDICES\n",
    "# ])\n",
    "# display()"
   ]
  }
 ],
 "metadata": {
  "kernelspec": {
   "display_name": ".venv",
   "language": "python",
   "name": "python3"
  },
  "language_info": {
   "codemirror_mode": {
    "name": "ipython",
    "version": 3
   },
   "file_extension": ".py",
   "mimetype": "text/x-python",
   "name": "python",
   "nbconvert_exporter": "python",
   "pygments_lexer": "ipython3",
   "version": "3.11.8"
  }
 },
 "nbformat": 4,
 "nbformat_minor": 2
}
