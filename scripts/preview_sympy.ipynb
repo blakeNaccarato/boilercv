{
 "cells": [
  {
   "cell_type": "markdown",
   "metadata": {},
   "source": [
    "# Preview SymPy"
   ]
  },
  {
   "cell_type": "code",
   "execution_count": 1,
   "metadata": {
    "tags": [
     "parameters"
    ]
   },
   "outputs": [],
   "source": [
    "from boilercv_pipeline.equations import EQS, EQUATIONS, SUBS, SYMPY, SYMPY_REPL\n",
    "from docs.boilercv_docs.nbs import HIDE\n",
    "from sympy import symbols, sympify\n",
    "from tomlkit import parse\n",
    "\n",
    "NAME = \"dimensionless_bubble_diameter_yuan_et_al_2009\"\n",
    "\"\"\"Name of the equation to preview.\"\"\"\n",
    "HIDE"
   ]
  },
  {
   "cell_type": "code",
   "execution_count": 2,
   "metadata": {},
   "outputs": [
    {
     "data": {
      "text/plain": [
       "'dimensionless_bubble_diameter_yuan_et_al_2009'"
      ]
     },
     "metadata": {},
     "output_type": "display_data"
    },
    {
     "data": {
      "text/latex": [
       "$\\displaystyle \\beta = \\left(1 - 1.8 Fo_{0} Ja Pr^{1 \\cdot \\frac{1}{3}} Re_{b0}^{0.5} \\cdot \\left(1 - 0.5 Fo_{0} Ja^{0.1}\\right)\\right)^{\\frac{2}{3}}$"
      ],
      "text/plain": [
       "Eq(beta, (1 - 1.8*Fo_0*Ja*Pr**(1/3)*Re_b0**0.5*(1 - 0.5*Fo_0*Ja**0.1))**(2/3))"
      ]
     },
     "metadata": {},
     "output_type": "display_data"
    },
    {
     "data": {
      "text/plain": [
       "'Eq(beta, (1 - 1.8 * Re_b0**0.5 * Pr**(1/3) * Ja * Fo_0 * (1 - 0.5 * Ja**0.1 * Fo_0))**(2/3))'"
      ]
     },
     "metadata": {},
     "output_type": "display_data"
    },
    {
     "data": {
      "text/plain": [
       "['Fo_0', 'Ja', 'Pr', 'beta', 'pi']"
      ]
     },
     "metadata": {},
     "output_type": "display_data"
    }
   ],
   "source": [
    "syms: list[str] = []\n",
    "for sub in SUBS:\n",
    "    for old, new in SYMPY_REPL.items():\n",
    "        sub = sub.replace(old, new)\n",
    "    syms.append(sub)\n",
    "eq = (\n",
    "    next(\n",
    "        eq\n",
    "        for eq in parse(EQUATIONS.read_text(\"utf-8\"))[EQS]  # pyright: ignore[reportGeneralTypeIssues]  1.1.356, tomlkit 0.12.4\n",
    "        if eq[\"name\"].strip() == NAME\n",
    "    )[SYMPY]\n",
    "    .strip()\n",
    "    .replace(\"\\n\", \"\")\n",
    "    .replace(\"    \", \"\")\n",
    ")\n",
    "for old, new in SYMPY_REPL.items():\n",
    "    eq = eq.replace(old, new)\n",
    "sympy = sympify(eq, locals=dict(zip(syms, symbols(syms), strict=True)), evaluate=False)\n",
    "display(NAME, sympy, eq, syms)"
   ]
  }
 ],
 "metadata": {
  "kernelspec": {
   "display_name": ".venv",
   "language": "python",
   "name": "python3"
  },
  "language_info": {
   "codemirror_mode": {
    "name": "ipython",
    "version": 3
   },
   "file_extension": ".py",
   "mimetype": "text/x-python",
   "name": "python",
   "nbconvert_exporter": "python",
   "pygments_lexer": "ipython3",
   "version": "3.11.9"
  }
 },
 "nbformat": 4,
 "nbformat_minor": 2
}
